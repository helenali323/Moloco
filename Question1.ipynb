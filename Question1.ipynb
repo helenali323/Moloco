{
 "cells": [
  {
   "cell_type": "code",
   "execution_count": 1,
   "metadata": {
    "ExecuteTime": {
     "end_time": "2019-07-31T19:02:36.262634Z",
     "start_time": "2019-07-31T19:02:35.504877Z"
    }
   },
   "outputs": [],
   "source": [
    "import pandas as pd\n",
    "import numpy as np\n",
    "import datetime as dt"
   ]
  },
  {
   "cell_type": "code",
   "execution_count": 2,
   "metadata": {
    "ExecuteTime": {
     "end_time": "2019-07-31T19:02:42.975845Z",
     "start_time": "2019-07-31T19:02:42.947683Z"
    }
   },
   "outputs": [],
   "source": [
    "# load data\n",
    "df = pd.read_csv('Adops & Data Scientist Sample Data - Q1 Analytics.csv')"
   ]
  },
  {
   "cell_type": "code",
   "execution_count": 3,
   "metadata": {
    "ExecuteTime": {
     "end_time": "2019-07-31T19:02:51.418535Z",
     "start_time": "2019-07-31T19:02:51.395075Z"
    }
   },
   "outputs": [
    {
     "data": {
      "text/html": [
       "<div>\n",
       "<style scoped>\n",
       "    .dataframe tbody tr th:only-of-type {\n",
       "        vertical-align: middle;\n",
       "    }\n",
       "\n",
       "    .dataframe tbody tr th {\n",
       "        vertical-align: top;\n",
       "    }\n",
       "\n",
       "    .dataframe thead th {\n",
       "        text-align: right;\n",
       "    }\n",
       "</style>\n",
       "<table border=\"1\" class=\"dataframe\">\n",
       "  <thead>\n",
       "    <tr style=\"text-align: right;\">\n",
       "      <th></th>\n",
       "      <th>ts</th>\n",
       "      <th>user_id</th>\n",
       "      <th>country_id</th>\n",
       "      <th>site_id</th>\n",
       "    </tr>\n",
       "  </thead>\n",
       "  <tbody>\n",
       "    <tr>\n",
       "      <th>0</th>\n",
       "      <td>2019-02-01 00:01:24</td>\n",
       "      <td>LC36FC</td>\n",
       "      <td>TL6</td>\n",
       "      <td>N0OTG</td>\n",
       "    </tr>\n",
       "    <tr>\n",
       "      <th>1</th>\n",
       "      <td>2019-02-01 00:10:19</td>\n",
       "      <td>LC39B6</td>\n",
       "      <td>TL6</td>\n",
       "      <td>N0OTG</td>\n",
       "    </tr>\n",
       "    <tr>\n",
       "      <th>2</th>\n",
       "      <td>2019-02-01 00:21:50</td>\n",
       "      <td>LC3500</td>\n",
       "      <td>TL6</td>\n",
       "      <td>N0OTG</td>\n",
       "    </tr>\n",
       "    <tr>\n",
       "      <th>3</th>\n",
       "      <td>2019-02-01 00:22:50</td>\n",
       "      <td>LC374F</td>\n",
       "      <td>TL6</td>\n",
       "      <td>N0OTG</td>\n",
       "    </tr>\n",
       "    <tr>\n",
       "      <th>4</th>\n",
       "      <td>2019-02-01 00:23:44</td>\n",
       "      <td>LCC1C3</td>\n",
       "      <td>TL6</td>\n",
       "      <td>QGO3G</td>\n",
       "    </tr>\n",
       "  </tbody>\n",
       "</table>\n",
       "</div>"
      ],
      "text/plain": [
       "                    ts user_id country_id site_id\n",
       "0  2019-02-01 00:01:24  LC36FC        TL6   N0OTG\n",
       "1  2019-02-01 00:10:19  LC39B6        TL6   N0OTG\n",
       "2  2019-02-01 00:21:50  LC3500        TL6   N0OTG\n",
       "3  2019-02-01 00:22:50  LC374F        TL6   N0OTG\n",
       "4  2019-02-01 00:23:44  LCC1C3        TL6   QGO3G"
      ]
     },
     "execution_count": 3,
     "metadata": {},
     "output_type": "execute_result"
    }
   ],
   "source": [
    "df.head()"
   ]
  },
  {
   "cell_type": "markdown",
   "metadata": {},
   "source": [
    "### Question 1.1"
   ]
  },
  {
   "cell_type": "code",
   "execution_count": 7,
   "metadata": {
    "ExecuteTime": {
     "end_time": "2019-07-31T19:07:53.198341Z",
     "start_time": "2019-07-31T19:07:53.186457Z"
    }
   },
   "outputs": [
    {
     "data": {
      "text/html": [
       "<div>\n",
       "<style scoped>\n",
       "    .dataframe tbody tr th:only-of-type {\n",
       "        vertical-align: middle;\n",
       "    }\n",
       "\n",
       "    .dataframe tbody tr th {\n",
       "        vertical-align: top;\n",
       "    }\n",
       "\n",
       "    .dataframe thead th {\n",
       "        text-align: right;\n",
       "    }\n",
       "</style>\n",
       "<table border=\"1\" class=\"dataframe\">\n",
       "  <thead>\n",
       "    <tr style=\"text-align: right;\">\n",
       "      <th></th>\n",
       "      <th>user_id</th>\n",
       "    </tr>\n",
       "    <tr>\n",
       "      <th>site_id</th>\n",
       "      <th></th>\n",
       "    </tr>\n",
       "  </thead>\n",
       "  <tbody>\n",
       "    <tr>\n",
       "      <th>5NPAU</th>\n",
       "      <td>544</td>\n",
       "    </tr>\n",
       "  </tbody>\n",
       "</table>\n",
       "</div>"
      ],
      "text/plain": [
       "         user_id\n",
       "site_id         \n",
       "5NPAU        544"
      ]
     },
     "execution_count": 7,
     "metadata": {},
     "output_type": "execute_result"
    }
   ],
   "source": [
    "df_bdv = df[df.country_id == 'BDV'] # filter by country id equal BDV\n",
    "\n",
    "#group by site id and count unique user_id\n",
    "df_bdv_group = df_bdv.groupby('site_id')['user_id'].nunique().to_frame() \n",
    "# sort by nuique user number and then take the top one\n",
    "df_bdv_group.sort_values('user_id',ascending = False).head(1)"
   ]
  },
  {
   "cell_type": "markdown",
   "metadata": {},
   "source": [
    "### Question 1.2"
   ]
  },
  {
   "cell_type": "code",
   "execution_count": 8,
   "metadata": {
    "ExecuteTime": {
     "end_time": "2019-07-31T19:12:21.839125Z",
     "start_time": "2019-07-31T19:12:21.817932Z"
    }
   },
   "outputs": [
    {
     "data": {
      "text/html": [
       "<div>\n",
       "<style scoped>\n",
       "    .dataframe tbody tr th:only-of-type {\n",
       "        vertical-align: middle;\n",
       "    }\n",
       "\n",
       "    .dataframe tbody tr th {\n",
       "        vertical-align: top;\n",
       "    }\n",
       "\n",
       "    .dataframe thead th {\n",
       "        text-align: right;\n",
       "    }\n",
       "</style>\n",
       "<table border=\"1\" class=\"dataframe\">\n",
       "  <thead>\n",
       "    <tr style=\"text-align: right;\">\n",
       "      <th></th>\n",
       "      <th>user_id</th>\n",
       "      <th>site_id</th>\n",
       "      <th>ts</th>\n",
       "    </tr>\n",
       "  </thead>\n",
       "  <tbody>\n",
       "    <tr>\n",
       "      <th>3</th>\n",
       "      <td>LC06C3</td>\n",
       "      <td>N0OTG</td>\n",
       "      <td>25</td>\n",
       "    </tr>\n",
       "    <tr>\n",
       "      <th>417</th>\n",
       "      <td>LC3A59</td>\n",
       "      <td>N0OTG</td>\n",
       "      <td>26</td>\n",
       "    </tr>\n",
       "    <tr>\n",
       "      <th>485</th>\n",
       "      <td>LC3C7E</td>\n",
       "      <td>3POLC</td>\n",
       "      <td>15</td>\n",
       "    </tr>\n",
       "    <tr>\n",
       "      <th>493</th>\n",
       "      <td>LC3C9D</td>\n",
       "      <td>N0OTG</td>\n",
       "      <td>17</td>\n",
       "    </tr>\n",
       "  </tbody>\n",
       "</table>\n",
       "</div>"
      ],
      "text/plain": [
       "    user_id site_id  ts\n",
       "3    LC06C3   N0OTG  25\n",
       "417  LC3A59   N0OTG  26\n",
       "485  LC3C7E   3POLC  15\n",
       "493  LC3C9D   N0OTG  17"
      ]
     },
     "execution_count": 8,
     "metadata": {},
     "output_type": "execute_result"
    }
   ],
   "source": [
    "df.ts = pd.to_datetime(df.ts) # convert ts to timestamp\n",
    "begin_t = dt.datetime(2019,2,3,0,0,0) # 2019-02-03 00:00:00\n",
    "end_t = dt.datetime(2019,2,4,23,59,59) # 2019-02-04 23:59:59\n",
    "\n",
    "df_time = df.loc[(df.ts>begin_t)&(df.ts < end_t)] # filter by time\n",
    "# for each user and site count visited times\n",
    "df_count = df_time.groupby(['user_id','site_id'])['ts'].count().to_frame().reset_index()\n",
    "df_count[df_count.ts > 10] # filter by visit times greater than 10"
   ]
  },
  {
   "cell_type": "markdown",
   "metadata": {},
   "source": [
    "### Question 1.3"
   ]
  },
  {
   "cell_type": "code",
   "execution_count": 9,
   "metadata": {
    "ExecuteTime": {
     "end_time": "2019-07-31T19:17:56.789751Z",
     "start_time": "2019-07-31T19:17:56.767845Z"
    }
   },
   "outputs": [
    {
     "data": {
      "text/html": [
       "<div>\n",
       "<style scoped>\n",
       "    .dataframe tbody tr th:only-of-type {\n",
       "        vertical-align: middle;\n",
       "    }\n",
       "\n",
       "    .dataframe tbody tr th {\n",
       "        vertical-align: top;\n",
       "    }\n",
       "\n",
       "    .dataframe thead th {\n",
       "        text-align: right;\n",
       "    }\n",
       "</style>\n",
       "<table border=\"1\" class=\"dataframe\">\n",
       "  <thead>\n",
       "    <tr style=\"text-align: right;\">\n",
       "      <th></th>\n",
       "      <th>ts_last</th>\n",
       "    </tr>\n",
       "    <tr>\n",
       "      <th>site_last</th>\n",
       "      <th></th>\n",
       "    </tr>\n",
       "  </thead>\n",
       "  <tbody>\n",
       "    <tr>\n",
       "      <th>5NPAU</th>\n",
       "      <td>992</td>\n",
       "    </tr>\n",
       "    <tr>\n",
       "      <th>N0OTG</th>\n",
       "      <td>561</td>\n",
       "    </tr>\n",
       "    <tr>\n",
       "      <th>QGO3G</th>\n",
       "      <td>289</td>\n",
       "    </tr>\n",
       "    <tr>\n",
       "      <th>GVOFK</th>\n",
       "      <td>42</td>\n",
       "    </tr>\n",
       "    <tr>\n",
       "      <th>3POLC</th>\n",
       "      <td>28</td>\n",
       "    </tr>\n",
       "    <tr>\n",
       "      <th>RT9Z6</th>\n",
       "      <td>2</td>\n",
       "    </tr>\n",
       "    <tr>\n",
       "      <th>EUZ/Q</th>\n",
       "      <td>1</td>\n",
       "    </tr>\n",
       "    <tr>\n",
       "      <th>JSUUP</th>\n",
       "      <td>1</td>\n",
       "    </tr>\n",
       "  </tbody>\n",
       "</table>\n",
       "</div>"
      ],
      "text/plain": [
       "           ts_last\n",
       "site_last         \n",
       "5NPAU          992\n",
       "N0OTG          561\n",
       "QGO3G          289\n",
       "GVOFK           42\n",
       "3POLC           28\n",
       "RT9Z6            2\n",
       "EUZ/Q            1\n",
       "JSUUP            1"
      ]
     },
     "execution_count": 9,
     "metadata": {},
     "output_type": "execute_result"
    }
   ],
   "source": [
    "# for each user, get last visit time\n",
    "df_last_visit = df.groupby('user_id')['ts'].max().to_frame().reset_index()\n",
    "# left join previous table with the full table to get last visit site\n",
    "df_last_site = df_last_visit.merge(df, on = ['ts','user_id'], how='left' )\n",
    "# change column names\n",
    "df_last_site.columns = ['user_id','ts_last', 'country_last', 'site_last']\n",
    "# group by last vist site and count each sites' occurrence, sort by counts\n",
    "df_last_site.groupby('site_last')['ts_last'].count().to_frame().sort_values('ts_last', ascending = False)"
   ]
  },
  {
   "cell_type": "markdown",
   "metadata": {},
   "source": [
    "### Question 1.4"
   ]
  },
  {
   "cell_type": "code",
   "execution_count": 13,
   "metadata": {
    "ExecuteTime": {
     "end_time": "2019-07-31T19:21:22.661722Z",
     "start_time": "2019-07-31T19:21:22.631644Z"
    }
   },
   "outputs": [
    {
     "data": {
      "text/plain": [
       "1670"
      ]
     },
     "execution_count": 13,
     "metadata": {},
     "output_type": "execute_result"
    }
   ],
   "source": [
    "# for each user, get first visit time\n",
    "df_first_visit = df.groupby('user_id')['ts'].min().to_frame().reset_index()\n",
    "# left join previous table with the full table to get first visit site\n",
    "df_first_site = df_first_visit.merge(df, on = ['ts','user_id'], how='left' )\n",
    "# change column names\n",
    "df_first_site.columns = ['user_id','ts_first', 'country_first', 'site_first']\n",
    "# combine with the last visit table we get from question 1.3, join by using user_id\n",
    "df_comb = df_last_site.merge(df_first_site, on ='user_id', how = 'left')\n",
    "# filter by last visit site equal first visit site and compute the length\n",
    "len(df_comb[df_comb.site_first == df_comb.site_last])"
   ]
  },
  {
   "cell_type": "code",
   "execution_count": null,
   "metadata": {},
   "outputs": [],
   "source": []
  }
 ],
 "metadata": {
  "kernelspec": {
   "display_name": "Python 3",
   "language": "python",
   "name": "python3"
  },
  "language_info": {
   "codemirror_mode": {
    "name": "ipython",
    "version": 3
   },
   "file_extension": ".py",
   "mimetype": "text/x-python",
   "name": "python",
   "nbconvert_exporter": "python",
   "pygments_lexer": "ipython3",
   "version": "3.7.0"
  }
 },
 "nbformat": 4,
 "nbformat_minor": 2
}
